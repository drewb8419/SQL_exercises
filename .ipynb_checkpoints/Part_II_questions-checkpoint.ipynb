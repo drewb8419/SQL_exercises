{
 "cells": [
  {
   "cell_type": "code",
   "execution_count": 1,
   "metadata": {},
   "outputs": [],
   "source": [
    "from sqlalchemy import create_engine"
   ]
  },
  {
   "cell_type": "code",
   "execution_count": 2,
   "metadata": {},
   "outputs": [],
   "source": [
    "import pandas as pd"
   ]
  },
  {
   "cell_type": "code",
   "execution_count": 3,
   "metadata": {},
   "outputs": [],
   "source": [
    "engine = create_engine('sqlite:///sqlite_db_pythonsqlite.db')"
   ]
  },
  {
   "cell_type": "code",
   "execution_count": 4,
   "metadata": {},
   "outputs": [
    {
     "name": "stdout",
     "output_type": "stream",
     "text": [
      "['Bookings', 'Facilities', 'Members']\n"
     ]
    }
   ],
   "source": [
    "table_names = engine.table_names()\n",
    "print(table_names)"
   ]
  },
  {
   "cell_type": "code",
   "execution_count": 5,
   "metadata": {},
   "outputs": [],
   "source": [
    "query = 'SELECT * FROM Bookings'"
   ]
  },
  {
   "cell_type": "markdown",
   "metadata": {},
   "source": [
    "Bookings - bookid, facid, memid, starttime, slots\n",
    "\n",
    "Facilities - facid, name, membercost, guestcost, initialoutlay, monthlymaintenance\n",
    "\n",
    "Members - memid, surname, firstname, address, zipcode, telephone, recommendby, joindate"
   ]
  },
  {
   "cell_type": "markdown",
   "metadata": {},
   "source": [
    "Q10: Produce a list of facilities with a total revenue less than 1000.\n",
    "The output of facility name and total revenue, sorted by revenue. Remember\n",
    "that there's a different cost for guests and members!"
   ]
  },
  {
   "cell_type": "code",
   "execution_count": 6,
   "metadata": {},
   "outputs": [],
   "source": [
    "q10_query = '''\n",
    "SELECT revenue.name AS 'Facility', revenue.revs AS 'Total Revenue'\n",
    "FROM (SELECT \n",
    " \tf.name AS name,\n",
    " \tSUM(CASE \n",
    "\tWHEN b.memid = 0\n",
    "    THEN f.guestcost*b.slots\n",
    "    WHEN b.memid != 0\n",
    "    THEN f.membercost*b.slots END) AS revs\n",
    "\tFROM Bookings as b\n",
    "\tLEFT JOIN Facilities as f\n",
    "\tON b.facid=f.facid\n",
    "    GROUP BY f.name) AS revenue\n",
    "WHERE revenue.revs < 1000\n",
    "GROUP BY revenue.name\n",
    "ORDER BY revenue.revs;'''\n"
   ]
  },
  {
   "cell_type": "code",
   "execution_count": 7,
   "metadata": {},
   "outputs": [
    {
     "name": "stdout",
     "output_type": "stream",
     "text": [
      "      bookid  facid  memid            starttime  slots\n",
      "0          0      3      1  2012-07-03 11:00:00      2\n",
      "1          1      4      1  2012-07-03 08:00:00      2\n",
      "2          2      6      0  2012-07-03 18:00:00      2\n",
      "3          3      7      1  2012-07-03 19:00:00      2\n",
      "4          4      8      1  2012-07-03 10:00:00      1\n",
      "...      ...    ...    ...                  ...    ...\n",
      "4038    4038      8     29  2012-09-30 16:30:00      2\n",
      "4039    4039      8     29  2012-09-30 18:00:00      1\n",
      "4040    4040      8     21  2012-09-30 18:30:00      1\n",
      "4041    4041      8     16  2012-09-30 19:00:00      1\n",
      "4042    4042      8     29  2012-09-30 19:30:00      1\n",
      "\n",
      "[4043 rows x 5 columns]\n"
     ]
    }
   ],
   "source": [
    "with engine.connect() as con:\n",
    "    rs = con.execute(query)\n",
    "    df = pd.DataFrame(rs.fetchall())\n",
    "    df.columns = rs.keys()\n",
    "print(df)"
   ]
  },
  {
   "cell_type": "code",
   "execution_count": 8,
   "metadata": {},
   "outputs": [
    {
     "name": "stdout",
     "output_type": "stream",
     "text": [
      "        Facility  Total Revenue\n",
      "0   Table Tennis            180\n",
      "1  Snooker Table            240\n",
      "2     Pool Table            270\n"
     ]
    }
   ],
   "source": [
    "with engine.connect() as con:\n",
    "    rs = con.execute(q10_query)\n",
    "    df = pd.DataFrame(rs.fetchall())\n",
    "    df.columns = rs.keys()\n",
    "print(df)"
   ]
  },
  {
   "cell_type": "markdown",
   "metadata": {},
   "source": [
    "Q11: Produce a report of members and who recommended them in alphabetic surname,firstname order"
   ]
  },
  {
   "cell_type": "code",
   "execution_count": 9,
   "metadata": {},
   "outputs": [],
   "source": [
    "q11_query = '''\n",
    "SELECT m1.surname, m1.firstname, \n",
    "\tCASE WHEN m1.recommendedby = 0 THEN 'Unknown'\n",
    "\tELSE m2.surname END AS Recommender\n",
    "FROM Members AS m1\n",
    "LEFT JOIN Members AS m2\n",
    "ON m1.recommendedby=m2.memid\n",
    "ORDER BY m1.surname;'''"
   ]
  },
  {
   "cell_type": "code",
   "execution_count": 10,
   "metadata": {},
   "outputs": [
    {
     "name": "stdout",
     "output_type": "stream",
     "text": [
      "              surname  firstname Recommender\n",
      "0               Bader   Florence    Stibbons\n",
      "1               Baker       Anne    Stibbons\n",
      "2               Baker    Timothy     Farrell\n",
      "3              Boothe        Tim      Rownam\n",
      "4             Butters     Gerald       Smith\n",
      "5              Coplin       Joan       Baker\n",
      "6             Crumpet      Erica       Smith\n",
      "7                Dare      Nancy    Joplette\n",
      "8             Farrell     Jemima        None\n",
      "9             Farrell      David        None\n",
      "10              GUEST      GUEST        None\n",
      "11            Genting    Matthew     Butters\n",
      "12               Hunt       John     Purview\n",
      "13              Jones      David    Joplette\n",
      "14              Jones    Douglas       Jones\n",
      "15           Joplette     Janice       Smith\n",
      "16          Mackenzie       Anna       Smith\n",
      "17               Owen    Charles       Smith\n",
      "18             Pinker      David     Farrell\n",
      "19            Purview  Millicent       Smith\n",
      "20             Rownam        Tim        None\n",
      "21             Rumney  Henrietta     Genting\n",
      "22             Sarwin  Ramnaresh       Bader\n",
      "23              Smith     Darren        None\n",
      "24              Smith      Tracy        None\n",
      "25              Smith       Jack       Smith\n",
      "26              Smith     Darren        None\n",
      "27           Stibbons     Ponder       Tracy\n",
      "28              Tracy     Burton        None\n",
      "29         Tupperware   Hyacinth        None\n",
      "30  Worthington-Smyth      Henry       Smith\n"
     ]
    }
   ],
   "source": [
    "with engine.connect() as con:\n",
    "    rs = con.execute(q11_query)\n",
    "    df = pd.DataFrame(rs.fetchall())\n",
    "    df.columns = rs.keys()\n",
    "print(df)"
   ]
  },
  {
   "cell_type": "code",
   "execution_count": 11,
   "metadata": {},
   "outputs": [],
   "source": [
    "q12_query = '''\n",
    "SELECT f.name AS 'Facility', SUM(b.slots) AS 'Slots reserved by members'\n",
    "FROM Bookings AS b\n",
    "LEFT JOIN Facilities AS f\n",
    "ON b.facid = f.facid\n",
    "WHERE b.memid !=0\n",
    "GROUP BY f.name;'''"
   ]
  },
  {
   "cell_type": "code",
   "execution_count": 12,
   "metadata": {},
   "outputs": [
    {
     "name": "stdout",
     "output_type": "stream",
     "text": [
      "          Facility  Slots reserved by members\n",
      "0  Badminton Court                       1086\n",
      "1   Massage Room 1                        884\n",
      "2   Massage Room 2                         54\n",
      "3       Pool Table                        856\n",
      "4    Snooker Table                        860\n",
      "5     Squash Court                        418\n",
      "6     Table Tennis                        794\n",
      "7   Tennis Court 1                        957\n",
      "8   Tennis Court 2                        882\n"
     ]
    }
   ],
   "source": [
    "with engine.connect() as con:\n",
    "    rs = con.execute(q12_query)\n",
    "    df = pd.DataFrame(rs.fetchall())\n",
    "    df.columns = rs.keys()\n",
    "print(df)"
   ]
  },
  {
   "cell_type": "code",
   "execution_count": 13,
   "metadata": {},
   "outputs": [],
   "source": [
    "q13_query = '''\n",
    "SELECT STRFTIME('%m', starttime) AS Month, SUM(slots) AS \"Total slots\"\n",
    "FROM Bookings\n",
    "WHERE memid != 0\n",
    "GROUP BY Month;'''"
   ]
  },
  {
   "cell_type": "code",
   "execution_count": 14,
   "metadata": {},
   "outputs": [
    {
     "name": "stdout",
     "output_type": "stream",
     "text": [
      "  Month  Total slots\n",
      "0    07         1061\n",
      "1    08         2531\n",
      "2    09         3199\n"
     ]
    }
   ],
   "source": [
    "with engine.connect() as con:\n",
    "    rs = con.execute(q13_query)\n",
    "    df = pd.DataFrame(rs.fetchall())\n",
    "    df.columns = rs.keys()\n",
    "print(df)"
   ]
  }
 ],
 "metadata": {
  "kernelspec": {
   "display_name": "Python 3",
   "language": "python",
   "name": "python3"
  },
  "language_info": {
   "codemirror_mode": {
    "name": "ipython",
    "version": 3
   },
   "file_extension": ".py",
   "mimetype": "text/x-python",
   "name": "python",
   "nbconvert_exporter": "python",
   "pygments_lexer": "ipython3",
   "version": "3.7.6"
  }
 },
 "nbformat": 4,
 "nbformat_minor": 4
}
